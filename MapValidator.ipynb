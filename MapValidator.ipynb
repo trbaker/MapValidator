{
 "cells": [
  {
   "cell_type": "code",
   "execution_count": 1,
   "metadata": {},
   "outputs": [
    {
     "data": {
      "text/html": [
       "<div class=\"item_container\" style=\"height: auto; overflow: hidden; border: 1px solid #cfcfcf; border-radius: 2px; background: #f6fafa; line-height: 1.21429em; padding: 10px;\">\n",
       "                    <div class=\"item_left\" style=\"width: 210px; float: left;\">\n",
       "                       <a href='https://arcgis.com/home/item.html?id=fd6af07946f346a18c7211d91135fb26' target='_blank'>\n",
       "                        <img src='https://arcgis.com/sharing/rest//content/items/fd6af07946f346a18c7211d91135fb26/info/thumbnail/ago_downloaded.png' class=\"itemThumbnail\">\n",
       "                       </a>\n",
       "                    </div>\n",
       "\n",
       "                    <div class=\"item_right\"     style=\"float: none; width: auto; overflow: hidden;\">\n",
       "                        <a href='https://arcgis.com/home/item.html?id=fd6af07946f346a18c7211d91135fb26' target='_blank'><b>AZ river and trail test</b>\n",
       "                        </a>\n",
       "                        <br/>dummy data - well the data isn't dumb.  it's just a test<img src='https://arcgis.com/home/js/jsapi/esri/css/images/item_type_icons/maps16.png' style=\"vertical-align:middle;\">Web Map by edteam.tbaker\n",
       "                        <br/>Last Modified: October 18, 2018\n",
       "                        <br/>0 comments, 43 views\n",
       "                    </div>\n",
       "                </div>\n",
       "                "
      ],
      "text/plain": [
       "<Item title:\"AZ river and trail test\" type:Web Map owner:edteam.tbaker>"
      ]
     },
     "metadata": {},
     "output_type": "display_data"
    },
    {
     "name": "stderr",
     "output_type": "stream",
     "text": [
      "You do not have permissions to access this resource or perform this operation.\n"
     ]
    },
    {
     "name": "stdout",
     "output_type": "stream",
     "text": [
      "LAYERS:\n",
      "Title  ObjectId  Service URL  Details URL\n",
      " ********** \n",
      "1 ERROR LAYER: Travel from Map Notes (Points) (11 Minutes) f835a76cd35e40e48e5f0ff41849d138 https://services7.arcgis.com/rZj3O6iruhl0dJ0B/arcgis/rest/services/Travel%20from%20Map%20Notes%20(Points)%20(11%20Minutes)/FeatureServer/0\n",
      " ********** \n",
      "2 Texas_Counties_Historical_Pop_and_Farm_Counts_1890-2012 (Generalized) 6a3429bf7299459a86e8d870fba5f969 57 public GEOPORTer https://services.arcgis.com/9MGfkcpB2iaWxlsI/arcgis/rest/services/Texas_Counties_Historical_Pop_and_Farm_Counts_(Generalized)/FeatureServer/0  https://edteam.maps.arcgis.com/home/item.html?id=6a3429bf7299459a86e8d870fba5f969\n",
      "3 Arizona National Scenic Trail Feature Layers - AZT Passages Segments 3dbc86081ca64d64abc6a34d1691aaa6 266623 public AZTrail https://services3.arcgis.com/IKBBLZOXy58PXgpl/arcgis/rest/services/Arizona_National_Scenic_Trail_Layers/FeatureServer/4  https://edteam.maps.arcgis.com/home/item.html?id=3dbc86081ca64d64abc6a34d1691aaa6\n",
      "4 USA Rivers and Streams 0baca6c9ffd6499fb8e5fad50174c4e0 57502 public esri https://services.arcgis.com/P3ePLMYs2RVChkJx/arcgis/rest/services/USA_Rivers_and_Streams/FeatureServer/0  https://edteam.maps.arcgis.com/home/item.html?id=0baca6c9ffd6499fb8e5fad50174c4e0\n",
      "5 USA Supermarket Access da445548bb844a3ca0ec646dd1a714e1 23344 public UOdocent https://tiles.arcgis.com/tiles/4yjifSiIG17X0gW4/arcgis/rest/services/USA_Food_Environments/MapServer  https://edteam.maps.arcgis.com/home/item.html?id=da445548bb844a3ca0ec646dd1a714e1\n"
     ]
    }
   ],
   "source": [
    "# script requires at least ArcGIS Python API v 1.3 or later\n",
    "\n",
    "# take a map id\n",
    "from arcgis.gis import GIS\n",
    "from arcgis.mapping import WebMap\n",
    "from IPython.display import display\n",
    "loop=0\n",
    "gis = GIS(\"https://arcgis.com\")\n",
    "\n",
    "# the objectId below is just a sample map - with one unshared layer and four shared layers.\n",
    "#insert your own map id below.\n",
    "result = gis.content.get(\"fd6af07946f346a18c7211d91135fb26\")\n",
    "display(result)\n",
    "web_map_obj = WebMap(result)\n",
    "web_map_obj\n",
    "web_map_obj.layers  #.layers will not work in older versions of the API.\n",
    "\n",
    "print(\"LAYERS:\")\n",
    "print(\"Title\" + \"  \" + \"ObjectId\" + \"  \" + \"Service URL\" + \"  \" + \"Details URL\")\n",
    "for lyr in web_map_obj.layers:\n",
    "    loop=loop+1\n",
    "    try:\n",
    "        subresult1 = gis.content.get(lyr.itemId)\n",
    "        print(str(loop) + \" \" + lyr.title + \" \" + lyr.itemId + \" \"+ \n",
    "            str(subresult1.numViews)+ \" \" + subresult1.access + \" \" + \n",
    "              str(subresult1.owner) + \" \"  + \n",
    "              lyr.url  + \"  \" + \n",
    "              \"https://edteam.maps.arcgis.com/home/item.html?id=\"+lyr.itemId)\n",
    "    except:\n",
    "        print(\" ********** \")\n",
    "        print(str(loop) + \" \" + \"ERROR LAYER: \" + lyr.title + \" \" + lyr.itemId + \" \" + lyr.url)\n",
    "        print(\" ********** \")\n"
   ]
  },
  {
   "cell_type": "code",
   "execution_count": null,
   "metadata": {
    "collapsed": true
   },
   "outputs": [],
   "source": []
  }
 ],
 "metadata": {
  "kernelspec": {
   "display_name": "Python 3",
   "language": "python",
   "name": "python3"
  },
  "language_info": {
   "codemirror_mode": {
    "name": "ipython",
    "version": 3
   },
   "file_extension": ".py",
   "mimetype": "text/x-python",
   "name": "python",
   "nbconvert_exporter": "python",
   "pygments_lexer": "ipython3",
   "version": "3.6.1"
  }
 },
 "nbformat": 4,
 "nbformat_minor": 2
}
